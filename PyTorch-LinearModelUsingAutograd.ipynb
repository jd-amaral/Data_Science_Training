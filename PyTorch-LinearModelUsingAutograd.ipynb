{
 "cells": [
  {
   "cell_type": "code",
   "execution_count": 3,
   "id": "6c3c58f1",
   "metadata": {},
   "outputs": [],
   "source": [
    "#Single layer NN with ReLU activation to construct simple linear model\n",
    "\n",
    "import numpy as np\n",
    "import matplotlib.pyplot as plt"
   ]
  },
  {
   "cell_type": "code",
   "execution_count": 10,
   "id": "e419e788",
   "metadata": {},
   "outputs": [],
   "source": [
    "x_train = np.array([[3.3], [4.4], [5.5], [6.71], [6.93], [4.168],\n",
    "                    [5.5], [6.1], [5.0], [5.5], [10.929], [7.0],\n",
    "                    [8.0], [9.0], [10.0]], dtype=np.float32) #features\n",
    "y_train = np.array([[1.0], [2.0], [3.0], [4.0], [5.0], [6.0],\n",
    "                    [7.0], [8.0], [9.0], [10.0], [11.0], [12.0],\n",
    "                    [13.0], [14.0], [15.0]], dtype=np.float32) #labels"
   ]
  },
  {
   "cell_type": "code",
   "execution_count": 5,
   "id": "e9eead93",
   "metadata": {},
   "outputs": [
    {
     "data": {
      "image/png": "[encoded data removed]",
      "text/plain": [
       "<Figure size 640x480 with 1 Axes>"
      ]
     },
     "metadata": {},
     "output_type": "display_data"
    }
   ],
   "source": [
    "plt.plot(x_train, y_train, 'ro', label = 'Original data')\n",
    "plt.show()"
   ]
  },
  {
   "cell_type": "code",
   "execution_count": 6,
   "id": "ccf082a1",
   "metadata": {},
   "outputs": [],
   "source": [
    "import torch"
   ]
  },
  {
   "cell_type": "code",
   "execution_count": 11,
   "id": "16a959e3",
   "metadata": {},
   "outputs": [
    {
     "name": "stdout",
     "output_type": "stream",
     "text": [
      "requires_grad for x_train: False\n",
      "requires_grad for y_train: False\n"
     ]
    }
   ],
   "source": [
    "X_train = torch.from_numpy(x_train)\n",
    "Y_train = torch.from_numpy(y_train)\n",
    "\n",
    "print('requires_grad for x_train:', X_train.requires_grad)\n",
    "print('requires_grad for y_train:', Y_train.requires_grad)"
   ]
  },
  {
   "cell_type": "code",
   "execution_count": 13,
   "id": "0602cc48",
   "metadata": {},
   "outputs": [],
   "source": [
    "input_size = 1\n",
    "hidden_size = 100\n",
    "output_size = 1\n",
    "learning_rate = 1e-6"
   ]
  },
  {
   "cell_type": "code",
   "execution_count": 14,
   "id": "2b6c0d0a",
   "metadata": {},
   "outputs": [
    {
     "data": {
      "text/plain": [
       "torch.Size([1, 100])"
      ]
     },
     "execution_count": 14,
     "metadata": {},
     "output_type": "execute_result"
    }
   ],
   "source": [
    "w1 = torch.rand(input_size,hidden_size, requires_grad=True)\n",
    "w1.shape"
   ]
  },
  {
   "cell_type": "code",
   "execution_count": 18,
   "id": "17f04cae",
   "metadata": {},
   "outputs": [
    {
     "data": {
      "text/plain": [
       "torch.Size([1, 100])"
      ]
     },
     "execution_count": 18,
     "metadata": {},
     "output_type": "execute_result"
    }
   ],
   "source": [
    "w2 = torch.rand(input_size, hidden_size, requires_grad=True)\n",
    "w2.shape"
   ]
  },
  {
   "cell_type": "code",
   "execution_count": 20,
   "id": "316d4fee",
   "metadata": {},
   "outputs": [
    {
     "name": "stdout",
     "output_type": "stream",
     "text": [
      "50 1032.7662353515625\n",
      "100 133.50735473632812\n",
      "150 128.2818603515625\n",
      "200 128.25035095214844\n",
      "250 128.2501678466797\n",
      "300 128.25013732910156\n"
     ]
    }
   ],
   "source": [
    "for iter in range(1,301):\n",
    "\n",
    "    y_pred = X_train.mm(w1).clamp(min=0).mm(w2.t())\n",
    "    loss = (y_pred - Y_train).pow(2).sum()\n",
    "\n",
    "    if iter % 50 == 0:\n",
    "        print(iter, loss.item())\n",
    "    \n",
    "    loss.backward()\n",
    "\n",
    "    with torch.no_grad():\n",
    "        w1 -= learning_rate * w1.grad\n",
    "        w2 -= learning_rate * w2.grad\n",
    "        w1.grad.zero_()\n",
    "        w2.grad.zero_()\n",
    "\n"
   ]
  },
  {
   "cell_type": "code",
   "execution_count": 21,
   "id": "8e5d027a",
   "metadata": {},
   "outputs": [
    {
     "name": "stdout",
     "output_type": "stream",
     "text": [
      "Final weights:\n",
      "w1: tensor([[ 5.8943e-01,  8.2685e-01,  2.2071e-01, -2.6210e-04,  5.2924e-01,\n",
      "          5.6566e-01, -7.0575e-03, -3.5094e-03, -4.6079e-03, -1.1563e-04,\n",
      "          5.2889e-01, -4.8849e-03,  1.0966e-01,  6.6920e-01, -6.5534e-03,\n",
      "          8.1287e-01,  5.6924e-01,  8.3746e-01,  6.7678e-01,  3.7149e-01,\n",
      "          5.3511e-01,  7.3158e-01,  1.5069e-01,  3.8738e-01,  2.3108e-01,\n",
      "          3.6377e-01, -9.9217e-05,  9.1803e-01,  7.8958e-01, -4.8720e-03,\n",
      "          9.1525e-01,  1.5840e-01, -2.7628e-03,  7.3876e-01,  5.5384e-01,\n",
      "         -1.6891e-02, -3.4103e-03,  2.4887e-01,  3.1089e-01,  7.0322e-01,\n",
      "         -8.4236e-04,  5.8245e-01,  4.4697e-01,  4.5843e-02,  3.1942e-01,\n",
      "          4.0814e-01, -1.0205e-02, -7.3606e-03,  4.7425e-01,  2.5945e-01,\n",
      "          1.8636e-01,  4.0965e-01,  2.5695e-02,  3.8861e-01,  3.0821e-01,\n",
      "          9.6408e-02,  8.0110e-01,  6.6427e-01, -1.2668e-02,  4.2575e-01,\n",
      "          5.4370e-01,  1.2831e-01,  2.7429e-01,  2.2670e-01,  1.9465e-02,\n",
      "          4.9444e-02, -5.7629e-03,  8.1886e-01,  9.0449e-01,  6.2779e-01,\n",
      "          7.6535e-01, -6.9414e-04,  6.2965e-01,  3.2832e-01,  2.5191e-02,\n",
      "          2.7128e-01,  6.9168e-01,  1.0514e-01,  1.0627e+00,  3.9740e-01,\n",
      "          3.7846e-01,  1.0197e+00,  6.0952e-01,  8.2649e-01,  3.4800e-01,\n",
      "          9.4033e-02,  2.3653e-01,  6.5830e-02,  8.0136e-01,  3.1242e-01,\n",
      "          3.7971e-01,  9.4915e-01,  3.0961e-01,  7.5338e-01,  6.3457e-01,\n",
      "          7.9259e-01,  4.7852e-01,  4.6137e-01,  6.1823e-01,  1.4347e-01]],\n",
      "       requires_grad=True)\n",
      "w2: tensor([[-0.0519,  0.0296, -0.0674,  0.6475,  0.4401, -0.0571,  0.8644,  0.3916,\n",
      "          0.6731,  0.7016,  0.6407,  0.1724,  0.1625, -0.1535,  0.4008, -0.3049,\n",
      "         -0.1020, -0.3372,  0.3545,  0.4156,  0.4742, -0.0767,  0.4821,  0.2015,\n",
      "          0.0229,  0.1669,  0.4405, -0.2067,  0.0784,  0.7934, -0.3942,  0.5553,\n",
      "          0.7540,  0.2558,  0.2192,  0.5785,  0.8513,  0.4871,  0.1183, -0.0491,\n",
      "          0.7578, -0.1617,  0.6607,  0.4493, -0.0537,  0.5149,  0.5394,  0.8409,\n",
      "          0.2092,  0.5792,  0.5230,  0.3152,  0.5351,  0.2449,  0.2557,  0.6135,\n",
      "         -0.3105, -0.0229,  0.9036,  0.5939, -0.1245,  0.0492,  0.6498,  0.2001,\n",
      "          0.6155,  0.8054,  0.7524,  0.0782, -0.2773,  0.2143,  0.0272,  0.1444,\n",
      "         -0.0645,  0.5153,  0.5209,  0.0553,  0.0040,  0.6231, -0.4392,  0.6109,\n",
      "          0.5444, -0.4118, -0.1715, -0.0687,  0.0872,  0.2902,  0.5981,  0.4025,\n",
      "         -0.0121, -0.1387,  0.1599, -0.1314,  0.2437, -0.3071, -0.1200, -0.1811,\n",
      "         -0.0644, -0.0961, -0.2184,  0.7601]], requires_grad=True)\n"
     ]
    }
   ],
   "source": [
    "print('Final weights:')\n",
    "print('w1:', w1)\n",
    "print('w2:', w2)"
   ]
  },
  {
   "cell_type": "code",
   "execution_count": 22,
   "id": "a0f61272",
   "metadata": {},
   "outputs": [
    {
     "data": {
      "text/plain": [
       "tensor([[ 3.3000],\n",
       "        [ 4.4000],\n",
       "        [ 5.5000],\n",
       "        [ 6.7100],\n",
       "        [ 6.9300],\n",
       "        [ 4.1680],\n",
       "        [ 5.5000],\n",
       "        [ 6.1000],\n",
       "        [ 5.0000],\n",
       "        [ 5.5000],\n",
       "        [10.9290],\n",
       "        [ 7.0000],\n",
       "        [ 8.0000],\n",
       "        [ 9.0000],\n",
       "        [10.0000]])"
      ]
     },
     "execution_count": 22,
     "metadata": {},
     "output_type": "execute_result"
    }
   ],
   "source": [
    "x_train_tensor = torch.from_numpy(x_train)\n",
    "x_train_tensor"
   ]
  },
  {
   "cell_type": "code",
   "execution_count": 25,
   "id": "483b5e10",
   "metadata": {},
   "outputs": [
    {
     "data": {
      "text/plain": [
       "tensor([[ 4.1380],\n",
       "        [ 5.5173],\n",
       "        [ 6.8966],\n",
       "        [ 8.4139],\n",
       "        [ 8.6897],\n",
       "        [ 5.2264],\n",
       "        [ 6.8966],\n",
       "        [ 7.6490],\n",
       "        [ 6.2696],\n",
       "        [ 6.8966],\n",
       "        [13.7042],\n",
       "        [ 8.7775],\n",
       "        [10.0314],\n",
       "        [11.2854],\n",
       "        [12.5393]], grad_fn=<MmBackward0>)"
      ]
     },
     "execution_count": 25,
     "metadata": {},
     "output_type": "execute_result"
    }
   ],
   "source": [
    "predicted_in_tensor = x_train_tensor.mm(w1).clamp(min=0).mm(w2.t())\n",
    "predicted_in_tensor"
   ]
  },
  {
   "cell_type": "code",
   "execution_count": 26,
   "id": "3020963f",
   "metadata": {},
   "outputs": [
    {
     "data": {
      "text/plain": [
       "array([[ 4.137968 ],\n",
       "       [ 5.5172906],\n",
       "       [ 6.896613 ],\n",
       "       [ 8.413869 ],\n",
       "       [ 8.689732 ],\n",
       "       [ 5.2263794],\n",
       "       [ 6.896613 ],\n",
       "       [ 7.6489716],\n",
       "       [ 6.2696486],\n",
       "       [ 6.896613 ],\n",
       "       [13.704196 ],\n",
       "       [ 8.777508 ],\n",
       "       [10.031438 ],\n",
       "       [11.285366 ],\n",
       "       [12.539297 ]], dtype=float32)"
      ]
     },
     "execution_count": 26,
     "metadata": {},
     "output_type": "execute_result"
    }
   ],
   "source": [
    "predicted = predicted_in_tensor.detach().numpy()\n",
    "predicted"
   ]
  },
  {
   "cell_type": "code",
   "execution_count": 27,
   "id": "1ead39e1",
   "metadata": {},
   "outputs": [
    {
     "data": {
      "image/png": "[encoded data removed]",
      "text/plain": [
       "<Figure size 640x480 with 1 Axes>"
      ]
     },
     "metadata": {},
     "output_type": "display_data"
    }
   ],
   "source": [
    "plt.plot(x_train, y_train, 'ro', label = 'Original data')\n",
    "plt.plot(x_train, predicted, 'b-', label = 'Fitted line')\n",
    "plt.legend()\n",
    "plt.show()"
   ]
  },
  {
   "cell_type": "code",
   "execution_count": null,
   "id": "0242bf93",
   "metadata": {},
   "outputs": [],
   "source": []
  }
 ],
 "metadata": {
  "kernelspec": {
   "display_name": "Python 3",
   "language": "python",
   "name": "python3"
  },
  "language_info": {
   "codemirror_mode": {
    "name": "ipython",
    "version": 3
   },
   "file_extension": ".py",
   "mimetype": "text/x-python",
   "name": "python",
   "nbconvert_exporter": "python",
   "pygments_lexer": "ipython3",
   "version": "3.13.3"
  }
 },
 "nbformat": 4,
 "nbformat_minor": 5
}
